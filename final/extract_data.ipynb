{
 "cells": [
  {
   "cell_type": "markdown",
   "metadata": {},
   "source": [
    "# Extract Data"
   ]
  },
  {
   "cell_type": "code",
   "execution_count": 1,
   "metadata": {},
   "outputs": [],
   "source": [
    "import pandas as pd\n",
    "import numpy as np\n",
    "import re"
   ]
  },
  {
   "cell_type": "code",
   "execution_count": 2,
   "metadata": {},
   "outputs": [],
   "source": [
    "def load_and_save(fname):\n",
    "    df = pd.read_excel(f'./data/excel/{fname}.xlsx', skiprows=3, header=None)\n",
    "    df.columns = ['_', '_', '_', '_', 'x', 'I']\n",
    "\n",
    "    numbers = re.findall(r'\\d+\\.?\\d*', fname)\n",
    "    numbers = [float(num) for num in numbers]\n",
    "\n",
    "    np.savez(f'./data/npz/{fname}.npz', \n",
    "             x=df['x'].to_numpy(), \n",
    "             I=df['I'].to_numpy(),\n",
    "             spec=numbers[:-1],\n",
    "             L=numbers[-1])"
   ]
  },
  {
   "cell_type": "markdown",
   "metadata": {},
   "source": [
    "## Single slit"
   ]
  },
  {
   "cell_type": "code",
   "execution_count": 3,
   "metadata": {},
   "outputs": [],
   "source": [
    "load_and_save('single_0.1_281mm')\n",
    "load_and_save('single_0.1_376mm')\n",
    "load_and_save('single_0.2_281mm')\n",
    "load_and_save('single_0.2_376mm')"
   ]
  },
  {
   "cell_type": "markdown",
   "metadata": {},
   "source": [
    "## Double slit"
   ]
  },
  {
   "cell_type": "code",
   "execution_count": 4,
   "metadata": {},
   "outputs": [],
   "source": [
    "load_and_save('double_0.1,0.5_291mm')\n",
    "load_and_save('double_0.1,0.5_378mm')\n",
    "load_and_save('double_0.05,0.25_159mm')\n",
    "load_and_save('double_0.05,0.25_244mm')"
   ]
  }
 ],
 "metadata": {
  "kernelspec": {
   "display_name": "exp",
   "language": "python",
   "name": "python3"
  },
  "language_info": {
   "codemirror_mode": {
    "name": "ipython",
    "version": 3
   },
   "file_extension": ".py",
   "mimetype": "text/x-python",
   "name": "python",
   "nbconvert_exporter": "python",
   "pygments_lexer": "ipython3",
   "version": "3.12.9"
  }
 },
 "nbformat": 4,
 "nbformat_minor": 2
}
